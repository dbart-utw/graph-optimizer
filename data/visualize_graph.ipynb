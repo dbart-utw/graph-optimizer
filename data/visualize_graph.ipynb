{
 "cells": [
  {
   "cell_type": "code",
   "execution_count": 4,
   "metadata": {},
   "outputs": [],
   "source": [
    "from networkx import Graph, draw_networkx\n",
    "import networkx as nx\n",
    "from scipy.io import mmread, mmwrite\n",
    "import matplotlib.pyplot as plt\n",
    "import os"
   ]
  },
  {
   "cell_type": "code",
   "execution_count": 3,
   "metadata": {},
   "outputs": [
    {
     "data": {
      "image/png": "[encoded data removed]",
      "text/plain": [
       "<Figure size 640x480 with 1 Axes>"
      ]
     },
     "metadata": {},
     "output_type": "display_data"
    }
   ],
   "source": [
    "g = Graph(mmread('./test_matrix_fully_connected.mtx'))\n",
    "draw_networkx(g, pos=nx.spring_layout(g))"
   ]
  },
  {
   "cell_type": "code",
   "execution_count": 66,
   "metadata": {},
   "outputs": [
    {
     "data": {
      "text/plain": [
       "matrix([[0, 1, 1, ..., 0, 0, 0],\n",
       "        [0, 0, 0, ..., 0, 0, 0],\n",
       "        [1, 1, 0, ..., 0, 0, 0],\n",
       "        ...,\n",
       "        [0, 0, 0, ..., 0, 0, 0],\n",
       "        [0, 0, 0, ..., 0, 0, 0],\n",
       "        [0, 0, 0, ..., 0, 0, 0]], dtype=int64)"
      ]
     },
     "execution_count": 66,
     "metadata": {},
     "output_type": "execute_result"
    }
   ],
   "source": [
    "mmread('./opsahl-ucsocial.mtx').todense()"
   ]
  },
  {
   "cell_type": "code",
   "execution_count": 48,
   "metadata": {},
   "outputs": [],
   "source": [
    "g = nx.fast_gnp_random_graph(1000, 0.1)\n",
    "a = nx.to_scipy_sparse_array(g)\n",
    "# mmwrite('test_matrix_1000.mtx', a)\n",
    "# draw_networkx(g, pos=nx.spring_layout(g))"
   ]
  },
  {
   "cell_type": "code",
   "execution_count": 32,
   "metadata": {},
   "outputs": [],
   "source": [
    "def normalize_graph_indices(filename):\n",
    "    new_filename = filename.split('.')[0] + '_normalized.mtx'\n",
    "    i = 1\n",
    "    mappings = {}\n",
    "    with open(filename, 'r') as old_file:\n",
    "        with open(new_filename, 'w') as new_file:\n",
    "            for line in old_file:\n",
    "                from_node, to_node =  map(int, line.strip().split('\\t'))\n",
    "                if from_node not in mappings:\n",
    "                    mappings[from_node] = i\n",
    "                    i += 1\n",
    "                if to_node not in mappings:\n",
    "                    mappings[to_node] = i\n",
    "                    i += 1\n",
    "                new_file.write(f'{mappings[from_node]} {mappings[to_node]} 1\\n')\n",
    "\n",
    "def num_nodes_and_edges(filename):\n",
    "    with open(filename, 'r') as file:\n",
    "        nodes = set()\n",
    "        edges = 0\n",
    "        for line in file:\n",
    "            from_node, to_node =  map(int, line.strip().split('\\t'))\n",
    "            nodes.add(from_node)\n",
    "            nodes.add(to_node)\n",
    "            edges += 1\n",
    "        return len(nodes), edges"
   ]
  },
  {
   "cell_type": "code",
   "execution_count": 1,
   "metadata": {},
   "outputs": [],
   "source": [
    "def out_to_mm(old_filename, new_filename):\n",
    "    with open(old_filename, 'r') as old_file:\n",
    "        with open(new_filename, 'w') as new_file:\n",
    "            for line in old_file:\n",
    "                from_node, to_node, *rest = line.strip().split()\n",
    "                new_file.write(f'{from_node} {to_node} 1\\n')\n",
    "\n",
    "def remove_duplicate_edges(filename):\n",
    "    line1, line2, *edges = open(filename, 'r').readlines()\n",
    "    unique_edges = set(edges)\n",
    "    max_node = list(map(int, line2.strip().split()))[0]\n",
    "    line2 = f'{max_node} {max_node} {len(unique_edges)}\\n'\n",
    "    open(filename, 'w').writelines([line1, line2] + list(unique_edges))"
   ]
  },
  {
   "cell_type": "code",
   "execution_count": 10,
   "metadata": {},
   "outputs": [
    {
     "name": "stdout",
     "output_type": "stream",
     "text": [
      "as20000102\n",
      "chess\n",
      "librec-ciaodvd-trust\n",
      "maayan-vidal\n",
      "moreno_blogs_blogs\n",
      "moreno_innovation_innovation\n",
      "wikilens-ratings\n"
     ]
    }
   ],
   "source": [
    "# loop over directories in bfs_test dir\n",
    "for dir in os.listdir('bfs_test'):\n",
    "    if os.path.isdir(f'bfs_test/{dir}'):\n",
    "        print(dir)\n",
    "        out_to_mm(f'bfs_test/{dir}/out.{dir}', f'bfs_test/{dir}.mtx')\n",
    "        # for file in os.listdir(f'bfs_test/{dir}'):\n",
    "        #     print(file)\n",
    "        #     if file.endswith('.mtx'):\n",
    "        #         filename = f'bfs_test/{dir}/{file}'\n",
    "        #         normalize_graph_indices(filename)\n",
    "        #         remove_duplicate_edges(filename)\n",
    "        #         print(num_nodes_and_edges(filename))\n",
    "\n",
    "# out_to_mm('cfinder-google/out.cfinder-google', 'cfinder-google.mtx')"
   ]
  },
  {
   "cell_type": "code",
   "execution_count": 17,
   "metadata": {},
   "outputs": [],
   "source": [
    "remove_duplicate_edges('bfs_test/wikilens-ratings.mtx')"
   ]
  },
  {
   "cell_type": "code",
   "execution_count": 8,
   "metadata": {},
   "outputs": [],
   "source": [
    "def get_largest_cc(filename):\n",
    "    g = Graph(mmread(filename))\n",
    "    # Get only the nodes from the largest connected component and create a new graph with only these nodes\n",
    "    g = g.subgraph(max(nx.connected_components(g), key=len))\n",
    "    # Write this graph to a new file\n",
    "    mmwrite(f'{filename.split(\".\")[0]}_largest_cc.mtx', nx.to_scipy_sparse_array(g))\n",
    "\n",
    "for file in os.listdir('bfs_test'):\n",
    "    if file.endswith('.mtx'):\n",
    "        get_largest_cc(f'bfs_test/{file}')"
   ]
  }
 ],
 "metadata": {
  "kernelspec": {
   "display_name": "Python 3",
   "language": "python",
   "name": "python3"
  },
  "language_info": {
   "codemirror_mode": {
    "name": "ipython",
    "version": 3
   },
   "file_extension": ".py",
   "mimetype": "text/x-python",
   "name": "python",
   "nbconvert_exporter": "python",
   "pygments_lexer": "ipython3",
   "version": "3.12.9"
  }
 },
 "nbformat": 4,
 "nbformat_minor": 2
}
